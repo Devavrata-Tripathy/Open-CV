{
 "cells": [
  {
   "cell_type": "code",
   "execution_count": 9,
   "metadata": {},
   "outputs": [],
   "source": [
    "#Importing openCV \n",
    "import cv2"
   ]
  },
  {
   "cell_type": "code",
   "execution_count": 13,
   "metadata": {},
   "outputs": [],
   "source": [
    "#For this face detction i will use a cascade of Haar filters which can be downloaded \n",
    "#from this link https://github.com/opencv/opencv/tree/master/data/haarcascades\n",
    "#Filters for different features like face , eyes, smile, etc. are available here\n",
    "\n",
    "face_cascade = cv2.CascadeClassifier(\"C:/Users/Devavrata Tripathy/anaconda/program files/haarcascade_frontalface_default.xml\")\n",
    "smile_cascade = cv2.CascadeClassifier(\"C:/Users/Devavrata Tripathy/anaconda/program files/haarcascade_smile.xml\")"
   ]
  },
  {
   "cell_type": "code",
   "execution_count": 14,
   "metadata": {},
   "outputs": [],
   "source": [
    "#Define a function to detect the facial features\n",
    "#detectMultiScale() takes 3 arguements : \n",
    "#first is the frame \n",
    "#second is the scale factor which signifies by how much factor the image will be scaled down or squeezed\n",
    "#third is the min neighbour which means the number of potential  neighbouring windows in order to detect as a positive\n",
    "#detection\n",
    "\n",
    "def detect(gray, frame):\n",
    "    faces = face_cascade.detectMultiScale(gray, 1.4, 5)\n",
    "    i = 0\n",
    "    for (x, y, w, h) in faces:\n",
    "        cv2.rectangle(frame, (x, y), (x+w, y+h), (255, 0, 0), 2)\n",
    "        i = i+1\n",
    "        cv2.putText(frame, 'face num'+str(i), (x-10, y-10), \n",
    "                    cv2.FONT_HERSHEY_SIMPLEX, 0.7, (0, 0, 255), 2) \n",
    "        roi_gray = gray[y:y+h, x:x+w]\n",
    "        roi_color = frame[y:y+h, x:x+w]\n",
    "        smiles = smile_cascade.detectMultiScale(gray, 1.7, 4)\n",
    "        for (sx, sy, sw, sh) in smiles:\n",
    "            cv2.rectangle(roi_color, (sx, sy), (sx+sw, sy+sh), (0, 0, 255), 2)\n",
    "        \n",
    "    return frame "
   ]
  },
  {
   "cell_type": "code",
   "execution_count": 15,
   "metadata": {},
   "outputs": [],
   "source": [
    "#The code for recording the video through webcam and applying the detection function on the frames\n",
    "\n",
    "cap = cv2.VideoCapture(0)\n",
    "while True:\n",
    "    ret, frame = cap.read()\n",
    "    gray = cv2.cvtColor(frame, cv2.COLOR_BGR2GRAY)\n",
    "    canvas = detect(gray, frame)\n",
    "    cv2.imshow('video', canvas)\n",
    "    if cv2.waitKey(1) & 0xFF == ord('q'):\n",
    "        break\n",
    "\n",
    "cap.release()\n",
    "cv2.destroyAllWindows()"
   ]
  },
  {
   "cell_type": "code",
   "execution_count": null,
   "metadata": {},
   "outputs": [],
   "source": []
  }
 ],
 "metadata": {
  "kernelspec": {
   "display_name": "Python 3",
   "language": "python",
   "name": "python3"
  },
  "language_info": {
   "codemirror_mode": {
    "name": "ipython",
    "version": 3
   },
   "file_extension": ".py",
   "mimetype": "text/x-python",
   "name": "python",
   "nbconvert_exporter": "python",
   "pygments_lexer": "ipython3",
   "version": "3.7.6"
  }
 },
 "nbformat": 4,
 "nbformat_minor": 4
}
